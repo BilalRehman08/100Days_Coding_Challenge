{
 "cells": [
  {
   "cell_type": "code",
   "execution_count": null,
   "metadata": {},
   "outputs": [],
   "source": [
    "from selenium import webdriver\n",
    "from selenium.webdriver.common.keys import Keys\n"
   ]
  },
  {
   "cell_type": "code",
   "execution_count": null,
   "metadata": {},
   "outputs": [],
   "source": [
    "driver = webdriver.Chrome()\n",
    "driver.get(\"https://www.facebook.com/\")\n",
    "\n",
    "# get email field\n",
    "email = driver.find_element_by_name(\"email\")\n",
    "# send key to email field\n",
    "email.send_keys(\"************@gmail.com\")\n",
    "\n",
    "# get password field\n",
    "password = driver.find_element_by_name(\"pass\")\n",
    "# send key to password field\n",
    "password.send_keys(\"**********\")\n",
    "\n",
    "# click submit button\n",
    "\n",
    "driver.find_element_by_name(\"login\").click()\n",
    "\n",
    "driver.get(\"https://www.facebook.com/photo?fbid=2003538943122192&set=a.102046769938095\")\n",
    "\n",
    "driver.switch_to.window(driver.window_handles[0])\n",
    "driver.get(\"https://www.facebook.com/photo?fbid=2003538943122192&set=a.102046769938095\")\n",
    "\n",
    "# comment = driver.find_element_by_class_name(\"_1mf _1mj\")\n",
    "# comment.send_keys(\"web scrapper\")"
   ]
  },
  {
   "cell_type": "code",
   "execution_count": null,
   "metadata": {},
   "outputs": [],
   "source": []
  },
  {
   "cell_type": "code",
   "execution_count": null,
   "metadata": {},
   "outputs": [],
   "source": []
  }
 ],
 "metadata": {
  "kernelspec": {
   "display_name": "Python 3",
   "language": "python",
   "name": "python3"
  },
  "language_info": {
   "codemirror_mode": {
    "name": "ipython",
    "version": 3
   },
   "file_extension": ".py",
   "mimetype": "text/x-python",
   "name": "python",
   "nbconvert_exporter": "python",
   "pygments_lexer": "ipython3",
   "version": "3.8.5"
  }
 },
 "nbformat": 4,
 "nbformat_minor": 4
}
