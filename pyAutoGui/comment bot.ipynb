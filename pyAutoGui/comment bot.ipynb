{
 "cells": [
  {
   "cell_type": "code",
   "execution_count": 3,
   "metadata": {},
   "outputs": [],
   "source": [
    "import pyautogui\n",
    "import time\n",
    "\n",
    "comments = ['Saad Khan','web scrapper','AI Specialist']\n",
    "\n",
    "time.sleep(5)\n",
    "\n",
    "for i in range(10):\n",
    "    pyautogui.typewrite(comments[i%3])\n",
    "    pyautogui.typewrite(\"\\n\")\n",
    "    time.sleep(3)"
   ]
  }
 ],
 "metadata": {
  "kernelspec": {
   "display_name": "Python 3",
   "language": "python",
   "name": "python3"
  }
 },
 "nbformat": 4,
 "nbformat_minor": 4
}
