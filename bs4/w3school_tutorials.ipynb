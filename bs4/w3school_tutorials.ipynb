{
 "cells": [
  {
   "cell_type": "code",
   "execution_count": 1,
   "metadata": {},
   "outputs": [],
   "source": [
    "import csv\n",
    "from bs4 import BeautifulSoup\n",
    "import requests\n",
    "link = requests.get(\"https://www.w3schools.com/\")\n",
    "soup = BeautifulSoup(link.text, 'html.parser')\n",
    "a = soup.select('.w3-bar-item .w3-button')\n",
    "links = []\n",
    "names = []\n",
    "dataa = []\n",
    "\n",
    "for i in a:\n",
    "    links.append(i.get('href'))\n",
    "    names.append(i.text)\n",
    "    print(i.get('href'), i.text)\n",
    "\n",
    "for i in range(len(links)):\n",
    "    dataa.append([names[i],links[i]])\n",
    "\n",
    "with open('w3schoolss.csv','w') as file:\n",
    "    data = csv.writer(file)\n",
    "    data.writerows(dataa)"
   ]
  },
  {
   "cell_type": "code",
   "execution_count": null,
   "metadata": {},
   "outputs": [],
   "source": []
  }
 ],
 "metadata": {
  "kernelspec": {
   "display_name": "Python 3",
   "language": "python",
   "name": "python3"
  },
  "language_info": {
   "codemirror_mode": {
    "name": "ipython",
    "version": 3
   },
   "file_extension": ".py",
   "mimetype": "text/x-python",
   "name": "python",
   "nbconvert_exporter": "python",
   "pygments_lexer": "ipython3",
   "version": "3.8.5"
  }
 },
 "nbformat": 4,
 "nbformat_minor": 4
}
