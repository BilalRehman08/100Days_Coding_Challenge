{
 "cells": [
  {
   "cell_type": "code",
   "execution_count": null,
   "metadata": {},
   "outputs": [],
   "source": [
    "from selenium import webdriver\n",
    "from selenium.webdriver.common.keys import Keys\n",
    "import getpass\n",
    "import time"
   ]
  },
  {
   "cell_type": "code",
   "execution_count": null,
   "metadata": {},
   "outputs": [],
   "source": [
    "driver = webdriver.Chrome()\n",
    "driver.get(\"https://www.facebook.com/\")\n",
    "\n",
    "# input email\n",
    "email_input = input(\"Email: \")\n",
    "\n",
    "# input password\n",
    "pass_input = getpass.getpass(\"Password: \")\n",
    "\n",
    "# get email field\n",
    "email = driver.find_element_by_name(\"email\")\n",
    "\n",
    "# send key to email field\n",
    "email.send_keys(email_input)\n",
    "\n",
    "# get password field\n",
    "password = driver.find_element_by_name(\"pass\")\n",
    "\n",
    "# send key to password field\n",
    "password.send_keys(pass_input)\n",
    "\n",
    "# click submit button\n",
    "driver.find_element_by_name(\"login\").click()\n",
    "\n",
    "time.sleep(2)\n",
    "\n",
    "# get post url\n",
    "driver.get(\"https://mbasic.facebook.com/photo?fbid=2003538943122192&set=a.102046769938095&_rdc=3&_rdr\")\n",
    "\n",
    "for i in range(5):\n",
    "    \n",
    "    # get comment field\n",
    "    comment = driver.find_element_by_css_selector(\"textarea[name='comment_text']\")\n",
    "    comment.send_keys(\"1\")\n",
    "\n",
    "    button = driver.find_element_by_css_selector(\"input[type='submit']\")\n",
    "    button.click()\n",
    "\n",
    "    time.sleep(2)\n",
    "# comment = driver.find_element_by_class_name(\"_1mf _1mj\")\n",
    "# comment.send_keys(\"web scrapper\")"
   ]
  }
 ],
 "metadata": {
  "kernelspec": {
   "display_name": "Python 3",
   "language": "python",
   "name": "python3"
  },
  "language_info": {
   "codemirror_mode": {
    "name": "ipython",
    "version": 3
   },
   "file_extension": ".py",
   "mimetype": "text/x-python",
   "name": "python",
   "nbconvert_exporter": "python",
   "pygments_lexer": "ipython3",
   "version": "3.8.5"
  }
 },
 "nbformat": 4,
 "nbformat_minor": 4
}
