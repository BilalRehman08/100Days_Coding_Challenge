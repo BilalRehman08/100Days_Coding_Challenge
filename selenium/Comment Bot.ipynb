{
 "cells": [
  {
   "cell_type": "code",
   "execution_count": 2,
   "metadata": {},
   "outputs": [],
   "source": [
    "from selenium import webdriver\n",
    "from selenium.webdriver.common.keys import Keys\n",
    "import getpass\n",
    "import time"
   ]
  },
  {
   "cell_type": "code",
   "execution_count": 3,
   "metadata": {},
   "outputs": [
    {
     "name": "stdout",
     "output_type": "stream",
     "text": [
      "Email: bilalrehman08@gmail.com\n",
      "Password: ········\n"
     ]
    },
    {
     "ename": "KeyboardInterrupt",
     "evalue": "",
     "output_type": "error",
     "traceback": [
      "\u001b[1;31m---------------------------------------------------------------------------\u001b[0m",
      "\u001b[1;31mKeyboardInterrupt\u001b[0m                         Traceback (most recent call last)",
      "\u001b[1;32m<ipython-input-3-48b35b9189e8>\u001b[0m in \u001b[0;36m<module>\u001b[1;34m\u001b[0m\n\u001b[0;32m     39\u001b[0m     \u001b[0mbutton\u001b[0m\u001b[1;33m.\u001b[0m\u001b[0mclick\u001b[0m\u001b[1;33m(\u001b[0m\u001b[1;33m)\u001b[0m\u001b[1;33m\u001b[0m\u001b[1;33m\u001b[0m\u001b[0m\n\u001b[0;32m     40\u001b[0m \u001b[1;33m\u001b[0m\u001b[0m\n\u001b[1;32m---> 41\u001b[1;33m     \u001b[0mtime\u001b[0m\u001b[1;33m.\u001b[0m\u001b[0msleep\u001b[0m\u001b[1;33m(\u001b[0m\u001b[1;36m2\u001b[0m\u001b[1;33m)\u001b[0m\u001b[1;33m\u001b[0m\u001b[1;33m\u001b[0m\u001b[0m\n\u001b[0m",
      "\u001b[1;31mKeyboardInterrupt\u001b[0m: "
     ]
    }
   ],
   "source": [
    "driver = webdriver.Chrome()\n",
    "driver.get(\"https://www.facebook.com/\")\n",
    "\n",
    "# input email\n",
    "email_input = input(\"Email: \")\n",
    "\n",
    "# input password\n",
    "pass_input = getpass.getpass(\"Password: \")\n",
    "\n",
    "# get email field\n",
    "email = driver.find_element_by_name(\"email\")\n",
    "\n",
    "# send key to email field\n",
    "email.send_keys(email_input)\n",
    "\n",
    "# get password field\n",
    "password = driver.find_element_by_name(\"pass\")\n",
    "\n",
    "# send key to password field\n",
    "password.send_keys(pass_input)\n",
    "\n",
    "# click submit button\n",
    "driver.find_element_by_name(\"login\").click()\n",
    "\n",
    "time.sleep(2)\n",
    "\n",
    "# get post url\n",
    "driver.get(\"https://mbasic.facebook.com/photo?fbid=2003538943122192&set=a.102046769938095&_rdc=3&_rdr\")\n",
    "\n",
    "for i in range(5):\n",
    "    \n",
    "    # get comment field\n",
    "    comment = driver.find_element_by_css_selector(\"textarea[name='comment_text']\")\n",
    "    # send comment\n",
    "    comment.send_keys(\"1\")\n",
    "\n",
    "    # get submit field\n",
    "    button = driver.find_element_by_css_selector(\"input[type='submit']\")\n",
    "    button.click()\n",
    "\n",
    "    time.sleep(2)"
   ]
  },
  {
   "cell_type": "code",
   "execution_count": null,
   "metadata": {},
   "outputs": [],
   "source": []
  }
 ],
 "metadata": {
  "kernelspec": {
   "display_name": "Python 3",
   "language": "python",
   "name": "python3"
  },
  "language_info": {
   "codemirror_mode": {
    "name": "ipython",
    "version": 3
   },
   "file_extension": ".py",
   "mimetype": "text/x-python",
   "name": "python",
   "nbconvert_exporter": "python",
   "pygments_lexer": "ipython3",
   "version": "3.8.5"
  }
 },
 "nbformat": 4,
 "nbformat_minor": 4
}
