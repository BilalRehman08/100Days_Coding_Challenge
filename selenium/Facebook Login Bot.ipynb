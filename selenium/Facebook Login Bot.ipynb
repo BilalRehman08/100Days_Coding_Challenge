{
 "cells": [
  {
   "cell_type": "code",
   "execution_count": 1,
   "metadata": {},
   "outputs": [],
   "source": [
    "from selenium import webdriver\n",
    "from selenium.webdriver.common.keys import Keys"
   ]
  },
  {
   "cell_type": "code",
   "execution_count": 2,
   "metadata": {},
   "outputs": [],
   "source": [
    "driver = webdriver.Chrome()\n",
    "driver.get(\"https://www.facebook.com/\")\n",
    "\n",
    "# get email field\n",
    "email = driver.find_element_by_name(\"email\")\n",
    "# send key to email field\n",
    "email.send_keys(\"type your email here...!\")\n",
    "\n",
    "# get password field\n",
    "password = driver.find_element_by_name(\"pass\")\n",
    "# send key to password field\n",
    "password.send_keys(\"type your password here...!\")\n",
    "\n",
    "# click submit button\n",
    "driver.find_element_by_name(\"login\").click()"
   ]
  },
  {
   "cell_type": "code",
   "execution_count": null,
   "metadata": {},
   "outputs": [],
   "source": []
  }
 ],
 "metadata": {
  "kernelspec": {
   "display_name": "Python 3",
   "language": "python",
   "name": "python3"
  },
  "language_info": {
   "codemirror_mode": {
    "name": "ipython",
    "version": 3
   },
   "file_extension": ".py",
   "mimetype": "text/x-python",
   "name": "python",
   "nbconvert_exporter": "python",
   "pygments_lexer": "ipython3",
   "version": "3.8.5"
  }
 },
 "nbformat": 4,
 "nbformat_minor": 4
}
