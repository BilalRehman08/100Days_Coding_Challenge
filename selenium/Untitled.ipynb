{
 "cells": [
  {
   "cell_type": "code",
   "execution_count": null,
   "metadata": {},
   "outputs": [],
   "source": [
    "from selenium import webdriver \n",
    "import time\n",
    "import getpass\n",
    "\n",
    "final_comments = []\n",
    "with open('comment.txt') as comment:\n",
    "    comments = comment.readline()\n",
    "    striped_comment = comments.replace(' ',\"\")\n",
    "    for comment in striped_comment:\n",
    "        final_comments.append(comment)\n",
    "        \n",
    "def auto_comment(striped_comment):\n",
    "    your_email = input(\"Enter the email address of your facebook \")\n",
    "    your_password = getpass.getpass(\"enter the password of your facebook \")\n",
    "    browser = webdriver.Chrome()\n",
    "    browser.get(\"https://mbasic.facebook.com\")\n",
    "    \n",
    "\n",
    "    email = browser.find_element_by_css_selector(\"input[name='email']\")\n",
    "    email.send_keys(str(your_email))\n",
    "    time.sleep(1)\n",
    "\n",
    "    password = browser.find_element_by_css_selector(\"input[name='pass']\")\n",
    "    password.send_keys(str(your_password))\n",
    "    button = browser.find_element_by_css_selector(\"input[type='submit']\")\n",
    "    button.click()\n",
    "    time.sleep(2)\n",
    "\n",
    "    browser.get(\"https://mbasic.facebook.com/story.php?story_fbid=2556937301227415&id=100007335102460&refid=17&_ft_=mf_story_key.2556937301227415%3Atop_level_post_id.2556937301227415%3Atl_objid.2556937301227415%3Acontent_owner_id_new.100007335102460%3Aoriginal_content_id.4260380450642462%3Aoriginal_content_owner_id.172819872731894%3Athrowback_story_fbid.2556937301227415%3Astory_location.4%3Astory_attachment_style.share%3Athid.100007335102460%3A306061129499414%3A2%3A0%3A1588316399%3A-5876329860260598811&__tn__=%2AW-R\")\n",
    "\n",
    "    for sc in striped_comment:\n",
    "        cb = browser.find_element_by_css_selector(\"textarea[name='comment_text']\")\n",
    "        cb.send_keys(sc)\n",
    "\n",
    "        button = browser.find_element_by_css_selector(\"input[type='submit']\")\n",
    "        button.click()\n",
    "\n",
    "        time.sleep(2)\n",
    "        print(f'{sc} comment is done !!')\n",
    "\n",
    "if __name__ == \"__main__\":\n",
    "    auto_comment(striped_comment)"
   ]
  }
 ],
 "metadata": {
  "kernelspec": {
   "display_name": "Python 3",
   "language": "python",
   "name": "python3"
  },
  "language_info": {
   "codemirror_mode": {
    "name": "ipython",
    "version": 3
   },
   "file_extension": ".py",
   "mimetype": "text/x-python",
   "name": "python",
   "nbconvert_exporter": "python",
   "pygments_lexer": "ipython3",
   "version": "3.8.5"
  }
 },
 "nbformat": 4,
 "nbformat_minor": 4
}
